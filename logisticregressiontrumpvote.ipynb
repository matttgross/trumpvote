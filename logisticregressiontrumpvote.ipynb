{
 "cells": [
  {
   "cell_type": "markdown",
   "metadata": {},
   "source": [
    "# Examining the 2016 Trump Vote Using Logistic Regression"
   ]
  },
  {
   "cell_type": "markdown",
   "metadata": {},
   "source": [
    "<font size=3> Which voter characteristics predict the decision to vote for Donald Trump or not in 2016? <br><br>\n",
    " \n",
    "Data from the 2016 <b> Cooperative Congressional Election Study (CCES) </b> were used to address this question. The CCES data contain responses from over 50,000 respondents.  I have already re-coded all of the variables used in the analysis.  The dependent variable trump_vote is a dummy variable, coded 1 if the respondent voted for Trump and 0 otherwise. Dummy variables were also used for party identification, evangelical, and race. <br><br>\n",
    "\n",
    "Below, I use pairwise deletion to account for missing values, divide the data into training and testing sets, I then estimate a Logistic Regression model using scikit learn.   \n",
    "    "
   ]
  },
  {
   "cell_type": "code",
   "execution_count": 20,
   "metadata": {},
   "outputs": [
    {
     "data": {
      "text/plain": [
       "LogisticRegression(C=1.0, class_weight=None, dual=False, fit_intercept=True,\n",
       "                   intercept_scaling=1, l1_ratio=None, max_iter=100,\n",
       "                   multi_class='auto', n_jobs=None, penalty='l2',\n",
       "                   random_state=4, solver='lbfgs', tol=0.0001, verbose=0,\n",
       "                   warm_start=False)"
      ]
     },
     "execution_count": 20,
     "metadata": {},
     "output_type": "execute_result"
    }
   ],
   "source": [
    "import pandas as pd\n",
    "from sklearn.linear_model import LogisticRegression\n",
    "from sklearn.model_selection import train_test_split\n",
    "\n",
    "cces = pd.read_csv(\"C:\\\\Users\\matth\\Desktop\\CCES\\cces.csv\")\n",
    "\n",
    "pd.DataFrame(cces)\n",
    "\n",
    "\n",
    "cces.dropna(axis=0, inplace=True)\n",
    "y = cces['trump_vote'].values\n",
    "x = cces.drop('trump_vote', axis=1).values\n",
    "\n",
    "X_train, X_test, y_train, y_test =  train_test_split(x, y, test_size=0.25, random_state=3) \n",
    "\n",
    "logit = LogisticRegression(random_state=4)\n",
    "\n",
    "logit.fit(X_train, y_train)\n",
    "\n"
   ]
  },
  {
   "cell_type": "markdown",
   "metadata": {},
   "source": [
    "## Evaluating Model Performance"
   ]
  },
  {
   "cell_type": "markdown",
   "metadata": {},
   "source": [
    "### The Confusion Matrix"
   ]
  },
  {
   "cell_type": "code",
   "execution_count": 14,
   "metadata": {},
   "outputs": [
    {
     "name": "stdout",
     "output_type": "stream",
     "text": [
      "[[5970  643]\n",
      " [1385 3307]]\n"
     ]
    }
   ],
   "source": [
    "\n",
    "#Confusion Matrix and AUC\n",
    "from sklearn.metrics import confusion_matrix, classification_report, roc_auc_score\n",
    "y_predict = logit.predict(X_test)\n",
    "print(confusion_matrix(y_test, y_predict))\n"
   ]
  },
  {
   "cell_type": "markdown",
   "metadata": {},
   "source": [
    "###  Classification Report"
   ]
  },
  {
   "cell_type": "code",
   "execution_count": 6,
   "metadata": {},
   "outputs": [
    {
     "name": "stdout",
     "output_type": "stream",
     "text": [
      "              precision    recall  f1-score   support\n",
      "\n",
      "         0.0       0.81      0.90      0.85      6613\n",
      "         1.0       0.84      0.70      0.77      4692\n",
      "\n",
      "    accuracy                           0.82     11305\n",
      "   macro avg       0.82      0.80      0.81     11305\n",
      "weighted avg       0.82      0.82      0.82     11305\n",
      "\n"
     ]
    }
   ],
   "source": [
    "print(classification_report(y_test,y_predict))"
   ]
  },
  {
   "cell_type": "markdown",
   "metadata": {},
   "source": [
    "The model accurately predicts the outcome on 82% of the test data."
   ]
  },
  {
   "cell_type": "markdown",
   "metadata": {},
   "source": [
    "### AUC Score"
   ]
  },
  {
   "cell_type": "code",
   "execution_count": 11,
   "metadata": {},
   "outputs": [
    {
     "name": "stdout",
     "output_type": "stream",
     "text": [
      "The AUC is 0.8038\n"
     ]
    }
   ],
   "source": [
    "print(\"The AUC is\", round(roc_auc_score(y_test, y_predict), 4))"
   ]
  },
  {
   "cell_type": "markdown",
   "metadata": {},
   "source": [
    "### ROC Curve"
   ]
  },
  {
   "cell_type": "code",
   "execution_count": 15,
   "metadata": {},
   "outputs": [
    {
     "data": {
      "image/png": "[encoded data removed]",
      "text/plain": [
       "<Figure size 432x288 with 1 Axes>"
      ]
     },
     "metadata": {
      "needs_background": "light"
     },
     "output_type": "display_data"
    }
   ],
   "source": [
    "#ROC Curve\n",
    "from sklearn.metrics import roc_curve\n",
    "import matplotlib.pyplot as plt\n",
    "\n",
    "\n",
    "y_pred_prob = logit.predict_proba(X_test)[:,1]\n",
    "\n",
    "fpr, tpr, thresholds = roc_curve(y_test, y_pred_prob)\n",
    "plt.plot([0, 1], [0, 1], 'k--')\n",
    "plt.plot(fpr, tpr)\n",
    "plt.xlabel('False Positive Rate')\n",
    "plt.ylabel('True Positive Rate')\n",
    "plt.title('ROC Curve')\n",
    "plt.show()"
   ]
  },
  {
   "cell_type": "markdown",
   "metadata": {},
   "source": [
    "## Logistic Regression in statsmodels\n",
    "\n",
    "Alternatively, Logistic Regression model of the Trump Vote could be estimated in statsmodels, which provides a traditional regression table, useful statistics, and measures of model fit, such as the Log Likelihood Ratio and pseudo R^2."
   ]
  },
  {
   "cell_type": "code",
   "execution_count": 19,
   "metadata": {
    "scrolled": true
   },
   "outputs": [
    {
     "name": "stdout",
     "output_type": "stream",
     "text": [
      "Optimization terminated successfully.\n",
      "         Current function value: 0.396081\n",
      "         Iterations 7\n",
      "                           Logit Regression Results                           \n",
      "==============================================================================\n",
      "Dep. Variable:             trump_vote   No. Observations:                45218\n",
      "Model:                          Logit   Df Residuals:                    45210\n",
      "Method:                           MLE   Df Model:                            7\n",
      "Date:                Fri, 28 Aug 2020   Pseudo R-squ.:                  0.4162\n",
      "Time:                        18:47:40   Log-Likelihood:                -17910.\n",
      "converged:                       True   LL-Null:                       -30678.\n",
      "Covariance Type:            nonrobust   LLR p-value:                     0.000\n",
      "==============================================================================\n",
      "                 coef    std err          z      P>|z|      [0.025      0.975]\n",
      "------------------------------------------------------------------------------\n",
      "const         -0.8613      0.051    -16.956      0.000      -0.961      -0.762\n",
      "republican     2.0778      0.033     63.498      0.000       2.014       2.142\n",
      "democrat      -2.3409      0.036    -64.500      0.000      -2.412      -2.270\n",
      "black         -1.4373      0.088    -16.412      0.000      -1.609      -1.266\n",
      "white          0.3844      0.049      7.832      0.000       0.288       0.481\n",
      "hispanic      -0.2540      0.073     -3.471      0.001      -0.397      -0.111\n",
      "born_again     0.9839      0.031     31.408      0.000       0.922       1.045\n",
      "male           0.3004      0.027     11.203      0.000       0.248       0.353\n",
      "==============================================================================\n"
     ]
    }
   ],
   "source": [
    "#Estimate with statsmodels\n",
    "import statsmodels.api as sm\n",
    "\n",
    "x_cols = sm.add_constant(cces).drop('trump_vote', axis=1)\n",
    "\n",
    "logit = sm.Logit(cces['trump_vote'], x_cols)\n",
    "vote_choice = logit.fit()\n",
    "print(vote_choice.summary())"
   ]
  },
  {
   "cell_type": "code",
   "execution_count": null,
   "metadata": {},
   "outputs": [],
   "source": []
  }
 ],
 "metadata": {
  "kernelspec": {
   "display_name": "Python 3",
   "language": "python",
   "name": "python3"
  },
  "language_info": {
   "codemirror_mode": {
    "name": "ipython",
    "version": 3
   },
   "file_extension": ".py",
   "mimetype": "text/x-python",
   "name": "python",
   "nbconvert_exporter": "python",
   "pygments_lexer": "ipython3",
   "version": "3.7.6"
  }
 },
 "nbformat": 4,
 "nbformat_minor": 4
}
